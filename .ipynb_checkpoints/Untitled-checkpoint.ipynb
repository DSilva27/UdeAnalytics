{
 "cells": [
  {
   "cell_type": "code",
   "execution_count": 81,
   "metadata": {},
   "outputs": [],
   "source": [
    "import pandas as pd\n",
    "import numpy as np\n",
    "import matplotlib.pyplot as plt\n",
    "import json\n",
    "import re"
   ]
  },
  {
   "cell_type": "code",
   "execution_count": 2,
   "metadata": {},
   "outputs": [],
   "source": [
    "from utils import data_parser"
   ]
  },
  {
   "cell_type": "code",
   "execution_count": 121,
   "metadata": {},
   "outputs": [],
   "source": [
    "d0to99 = data_parser.parse_from_txt(\"data/tweets_0to99.json\")[0]\n",
    "d100to199 = d0to100 = data_parser.parse_from_txt(\"data/tweets_100to199.json\")[0]\n",
    "d200to299 = data_parser.parse_from_txt(\"data/tweets_200to299.json\")[0]\n",
    "d300to399 = data_parser.parse_from_txt(\"data/tweets_300to399.json\")[0]\n",
    "d400toend = data_parser.parse_from_txt(\"data/tweets_400toend.json\")[0]"
   ]
  },
  {
   "cell_type": "code",
   "execution_count": 155,
   "metadata": {},
   "outputs": [],
   "source": [
    "def RT_REP_Counter(s): #s : data\n",
    "    h = {}\n",
    "    for i in s:\n",
    "        d = {\"RT\": {}, \"Qt\": [], \"Rep\" : {}}\n",
    "        for tweet in i[\"tweets\"]:\n",
    "            if \"RT\" in tweet:        \n",
    "                usr = \"@\" + re.findall(r\"@(\\w+)\", tweet)[0]\n",
    "                if usr in d[\"RT\"]:\n",
    "                    d[\"RT\"][usr] += 1\n",
    "\n",
    "                else:\n",
    "                    d[\"RT\"][usr] = 1\n",
    "\n",
    "            else:\n",
    "                usrs = re.findall(r\"@(\\w+)\", tweet)\n",
    "                for j in usrs:\n",
    "                    if \"@\" + j in d[\"Rep\"]:\n",
    "                        d[\"Rep\"][\"@\" + j] += 1\n",
    "\n",
    "                    else:\n",
    "                        d[\"Rep\"][\"@\" + j] = 1\n",
    "\n",
    "        h[i[\"user_id\"]] = d\n",
    "        \n",
    "    return h"
   ]
  },
  {
   "cell_type": "code",
   "execution_count": 145,
   "metadata": {},
   "outputs": [
    {
     "name": "stdout",
     "output_type": "stream",
     "text": [
      "1137160691016773632\n",
      "163996629\n",
      "72403807\n",
      "174491377\n",
      "1047832553665822720\n",
      "1172578267959889920\n",
      "105308592\n",
      "915102401924931585\n",
      "986606351966179328\n",
      "248500370\n",
      "1183890582005006336\n"
     ]
    }
   ],
   "source": [
    "for i in s:\n",
    "    print(i[\"user_id\"])"
   ]
  }
 ],
 "metadata": {
  "kernelspec": {
   "display_name": "Python 3",
   "language": "python3",
   "name": "python3"
  },
  "language_info": {
   "codemirror_mode": {
    "name": "ipython",
    "version": 3
   },
   "file_extension": ".py",
   "mimetype": "text/x-python",
   "name": "python",
   "nbconvert_exporter": "python",
   "pygments_lexer": "ipython3",
   "version": "3.6.8"
  }
 },
 "nbformat": 4,
 "nbformat_minor": 2
}
