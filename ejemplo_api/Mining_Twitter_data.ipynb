{
 "cells": [
  {
   "cell_type": "markdown",
   "metadata": {},
   "source": [
    "El código lo tomé de [aqui](http://adilmoujahid.com/posts/2014/07/twitter-analytics/) . Que es simplemente la página que nos mandó el profesor"
   ]
  },
  {
   "cell_type": "code",
   "execution_count": 103,
   "metadata": {},
   "outputs": [],
   "source": [
    "%matplotlib inline\n",
    "import matplotlib.pyplot as plt\n",
    "import networkx as nx\n",
    "import pandas as pd\n",
    "import re\n",
    "import numpy as np\n",
    "import json\n",
    "from collections import Counter\n",
    "plt.style.use('ggplot')"
   ]
  },
  {
   "cell_type": "code",
   "execution_count": 104,
   "metadata": {},
   "outputs": [],
   "source": [
    "tweets_data = []\n",
    "\n",
    "tweets_file = open(\"../ejemplo_api/twitter_data.txt\", \"r\")\n",
    "\n",
    "for line in tweets_file:\n",
    "    try:\n",
    "        tweet = json.loads(line)\n",
    "        tweets_data.append(tweet)\n",
    "        \n",
    "    except:\n",
    "        continue\n",
    "    "
   ]
  },
  {
   "cell_type": "code",
   "execution_count": 105,
   "metadata": {},
   "outputs": [
    {
     "data": {
      "text/html": [
       "<div>\n",
       "<style scoped>\n",
       "    .dataframe tbody tr th:only-of-type {\n",
       "        vertical-align: middle;\n",
       "    }\n",
       "\n",
       "    .dataframe tbody tr th {\n",
       "        vertical-align: top;\n",
       "    }\n",
       "\n",
       "    .dataframe thead th {\n",
       "        text-align: right;\n",
       "    }\n",
       "</style>\n",
       "<table border=\"1\" class=\"dataframe\">\n",
       "  <thead>\n",
       "    <tr style=\"text-align: right;\">\n",
       "      <th></th>\n",
       "      <th>text</th>\n",
       "      <th>user</th>\n",
       "    </tr>\n",
       "  </thead>\n",
       "  <tbody>\n",
       "    <tr>\n",
       "      <td>0</td>\n",
       "      <td>RT @Margari42657683: @JorgeLuisPerd20 Estados ...</td>\n",
       "      <td>gomez_grandes</td>\n",
       "    </tr>\n",
       "    <tr>\n",
       "      <td>1</td>\n",
       "      <td>RT @DrRobertoMOjeda: Conmemoramos el Aniversar...</td>\n",
       "      <td>juliodi65542504</td>\n",
       "    </tr>\n",
       "    <tr>\n",
       "      <td>2</td>\n",
       "      <td>RT @AdamSmithFree: “Me llamo @QuinteroCalle y ...</td>\n",
       "      <td>PiedadYusty</td>\n",
       "    </tr>\n",
       "    <tr>\n",
       "      <td>3</td>\n",
       "      <td>@WRadioColombia @matadoreltiempo @elespectador...</td>\n",
       "      <td>VILLAMILLUIS</td>\n",
       "    </tr>\n",
       "    <tr>\n",
       "      <td>4</td>\n",
       "      <td>RT @LolaVid: El Primer Secretario del Comité C...</td>\n",
       "      <td>HabanaGonzalez</td>\n",
       "    </tr>\n",
       "  </tbody>\n",
       "</table>\n",
       "</div>"
      ],
      "text/plain": [
       "                                                text             user\n",
       "0  RT @Margari42657683: @JorgeLuisPerd20 Estados ...    gomez_grandes\n",
       "1  RT @DrRobertoMOjeda: Conmemoramos el Aniversar...  juliodi65542504\n",
       "2  RT @AdamSmithFree: “Me llamo @QuinteroCalle y ...      PiedadYusty\n",
       "3  @WRadioColombia @matadoreltiempo @elespectador...     VILLAMILLUIS\n",
       "4  RT @LolaVid: El Primer Secretario del Comité C...   HabanaGonzalez"
      ]
     },
     "execution_count": 105,
     "metadata": {},
     "output_type": "execute_result"
    }
   ],
   "source": [
    "tweets= pd.DataFrame()\n",
    "tweets['text'] = list(map(lambda tweet: tweet['text'], tweets_data))\n",
    "tweets['user'] = list(map(lambda tweet: tweet['user']['screen_name'], tweets_data))\n",
    "#tweets['country'] = list(map(lambda tweet: tweet['place']['country'] if tweet['place'] != None else None, tweets_data))\n",
    "\n",
    "tweets.head()"
   ]
  },
  {
   "cell_type": "code",
   "execution_count": 106,
   "metadata": {},
   "outputs": [],
   "source": [
    "def word_in_text(word, text):\n",
    "    word = word.lower()\n",
    "    text = text.lower()\n",
    "    match = re.search(word, text)\n",
    "    if match:\n",
    "        return True\n",
    "    return False"
   ]
  },
  {
   "cell_type": "code",
   "execution_count": 107,
   "metadata": {},
   "outputs": [],
   "source": [
    "filters = ['DanielQuinteroAlcalde','@QuinteroCalle','#QuinteroPorMedellín', 'MedellínAdelante', '@AlfredoRamosM',\"#VamosPorMás\"]\n",
    "tweets_copy = tweets.copy()\n",
    "chao = 0\n",
    "for i in filters[1:2]:\n",
    "    tweets_copy[i] = tweets['text'].apply(lambda tweet: word_in_text(i, tweet))\n",
    "    \n",
    "    chao = tweets[tweets['text'].apply(lambda tweet: word_in_text(i, tweet))]\n"
   ]
  },
  {
   "cell_type": "code",
   "execution_count": 109,
   "metadata": {},
   "outputs": [
    {
     "data": {
      "text/plain": [
       "1624"
      ]
     },
     "execution_count": 109,
     "metadata": {},
     "output_type": "execute_result"
    }
   ],
   "source": [
    "filterse = \"@QuinteroCalle\"\n",
    "h = 0\n",
    "\n",
    "len(tweets[tweets['text'].apply(lambda tweet: word_in_text(filterse, tweet))].reset_index())"
   ]
  },
  {
   "cell_type": "code",
   "execution_count": 78,
   "metadata": {},
   "outputs": [
    {
     "data": {
      "text/plain": [
       "14"
      ]
     },
     "execution_count": 78,
     "metadata": {},
     "output_type": "execute_result"
    }
   ],
   "source": [
    "tweets_C = hola#tweets[tweets_copy[\"@QuinteroCalle\"]].reset_index()\n",
    "\n",
    "len(tweets_C)"
   ]
  },
  {
   "cell_type": "code",
   "execution_count": 30,
   "metadata": {},
   "outputs": [
    {
     "data": {
      "text/plain": [
       "\"\\nretweets = {}\\ncommon_tweets = {}\\n\\nfor user, tweet in zip(tweets_C['user'], tweets_C['text']):\\n    match = re.search(r'^\\x08RT\\x08', tweet)\\n    print(type(common_tweets))\\n    if match == None:\\n        if user in common_tweets:\\n            common_tweets[user].append(tweet)\\n            \\n        else:\\n            common_tweets[user] = [tweet]\\n        \\n    else:        \\n        if user in retweets:\\n            retweets[user].append(tweet)\\n            \\n        else:\\n            retweets[user] = [tweet]\\n\\n\\ntype(common_tweets)\\n\""
      ]
     },
     "execution_count": 30,
     "metadata": {},
     "output_type": "execute_result"
    }
   ],
   "source": [
    "retweets = []\n",
    "common_tweets = []\n",
    "\n",
    "for user, tweet in zip(tweets_C['user'], tweets_C['text']):\n",
    "    match = re.search(r'^\\bRT\\b', tweet)\n",
    "    \n",
    "    if match == None:\n",
    "        common_tweets.append([user,tweet])\n",
    "        \n",
    "    else:\n",
    "        retweets.append([user,tweet])\n",
    "        \n",
    "common_tweets = np.array(common_tweets)\n",
    "retweets = np.array(retweets)\n",
    "\n",
    "\n",
    "'''\n",
    "retweets = {}\n",
    "common_tweets = {}\n",
    "\n",
    "for user, tweet in zip(tweets_C['user'], tweets_C['text']):\n",
    "    match = re.search(r'^\\bRT\\b', tweet)\n",
    "    print(type(common_tweets))\n",
    "    if match == None:\n",
    "        if user in common_tweets:\n",
    "            common_tweets[user].append(tweet)\n",
    "            \n",
    "        else:\n",
    "            common_tweets[user] = [tweet]\n",
    "        \n",
    "    else:        \n",
    "        if user in retweets:\n",
    "            retweets[user].append(tweet)\n",
    "            \n",
    "        else:\n",
    "            retweets[user] = [tweet]\n",
    "\n",
    "\n",
    "type(common_tweets)\n",
    "'''"
   ]
  },
  {
   "cell_type": "code",
   "execution_count": 70,
   "metadata": {},
   "outputs": [
    {
     "data": {
      "text/plain": [
       "User\n",
       "Giocorozo          25\n",
       "ROBINASTROLOGO     15\n",
       "Laberinto_150      11\n",
       "golibo_gonzalo      6\n",
       "IvanDaroRestre1     6\n",
       "dtype: int64"
      ]
     },
     "execution_count": 70,
     "metadata": {},
     "output_type": "execute_result"
    }
   ],
   "source": [
    "common_tweets = pd.DataFrame(common_tweets, columns = [\"User\",\"Tweet\"])\n",
    "retweets = pd.DataFrame(retweets, columns = [\"User\",\"Tweet\"])\n",
    "\n",
    "common_tweets.groupby(\"User\").size().sort_values(ascending = False).head()"
   ]
  }
 ],
 "metadata": {
  "kernelspec": {
   "display_name": "Python 3",
   "language": "python",
   "name": "python3"
  },
  "language_info": {
   "codemirror_mode": {
    "name": "ipython",
    "version": 3
   },
   "file_extension": ".py",
   "mimetype": "text/x-python",
   "name": "python",
   "nbconvert_exporter": "python",
   "pygments_lexer": "ipython3",
   "version": "3.6.8"
  }
 },
 "nbformat": 4,
 "nbformat_minor": 2
}
